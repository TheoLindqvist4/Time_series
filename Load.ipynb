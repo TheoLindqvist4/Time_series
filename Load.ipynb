{
 "cells": [
  {
   "cell_type": "code",
   "execution_count": 1,
   "metadata": {},
   "outputs": [],
   "source": [
    "import numpy as np\n",
    "np.bool = np.bool_"
   ]
  },
  {
   "cell_type": "code",
   "execution_count": null,
   "metadata": {},
   "outputs": [],
   "source": [
    "import pandas as pd\n",
    "import matplotlib.pyplot as plt\n",
    "from sklearn.preprocessing import StandardScaler\n",
    "from gluonts.dataset.common import ListDataset\n",
    "from gluonts.mx.model.deepar import DeepAREstimator\n",
    "from gluonts.mx.trainer import Trainer\n",
    "from gluonts.evaluation import Evaluator\n",
    "import mxnet as mx"
   ]
  },
  {
   "cell_type": "code",
   "execution_count": 2,
   "metadata": {},
   "outputs": [],
   "source": [
    "## Read the CSV file\n",
    "#file_path_1 = 'C:\\Theo\\School\\ESIEE\\Annee\\E5\\TimeSeries\\Projet DeepAR\\Dataset\\ETT-small\\ETTh1.csv'\n",
    "#file_path_2 = 'C:\\Theo\\School\\ESIEE\\Annee\\E5\\TimeSeries\\Projet DeepAR\\Dataset\\ETT-small\\ETTh2.csv'\n",
    "#file_path_3 = 'C:\\Theo\\School\\ESIEE\\Annee\\E5\\TimeSeries\\Projet DeepAR\\Dataset\\ETT-small\\ETTm1.csv'\n",
    "#file_path_4 = 'C:\\Theo\\School\\ESIEE\\Annee\\E5\\TimeSeries\\Projet DeepAR\\Dataset\\ETT-small\\ETTm2.csv'\n",
    "#\n",
    "#df_1 = pd.read_csv(file_path_1)\n",
    "#df_2 = pd.read_csv(file_path_2)\n",
    "#df_3 = pd.read_csv(file_path_3)\n",
    "#df_4 = pd.read_csv(file_path_4)"
   ]
  },
  {
   "cell_type": "code",
   "execution_count": 3,
   "metadata": {},
   "outputs": [],
   "source": [
    "#print(df_1.shape)\n",
    "#print(df_2.shape)\n",
    "#print(df_3.shape)\n",
    "#print(df_4.shape)"
   ]
  },
  {
   "cell_type": "code",
   "execution_count": 4,
   "metadata": {},
   "outputs": [],
   "source": [
    "#display(df_4)"
   ]
  },
  {
   "cell_type": "code",
   "execution_count": 5,
   "metadata": {},
   "outputs": [],
   "source": [
    "file_path_weather = 'D:\\Ce PC\\Documents\\Times seriezs\\Time_series-1\\Dataset\\weather\\weather.csv'\n",
    "\n",
    "df_weather = pd.read_csv(file_path_weather)"
   ]
  },
  {
   "cell_type": "code",
   "execution_count": null,
   "metadata": {},
   "outputs": [],
   "source": [
    "display(df_weather)"
   ]
  },
  {
   "cell_type": "code",
   "execution_count": 7,
   "metadata": {},
   "outputs": [],
   "source": [
    "## Convert 'date' column to datetime\n",
    "#df_electricity['date'] = pd.to_datetime(df_electricity['date'])\n",
    "#\n",
    "## Select all columns except 'date' to plot\n",
    "#columns_to_plot = df_electricity.columns.drop('date')\n",
    "#\n",
    "## Plot all columns against the date\n",
    "#df_electricity.plot(x='date', y=columns_to_plot, figsize=(10,6), legend=False)\n",
    "#\n",
    "## Customize the plot\n",
    "#plt.title('All Data over Time')\n",
    "#plt.xlabel('Date')\n",
    "#plt.ylabel('Values')\n",
    "#plt.grid(True)\n",
    "#plt.tight_layout()\n",
    "#\n",
    "## Show the plot\n",
    "#plt.show()"
   ]
  },
  {
   "cell_type": "code",
   "execution_count": 8,
   "metadata": {},
   "outputs": [],
   "source": [
    "# Conversion de la colonne 'date' en format datetime\n",
    "df_weather['date'] = pd.to_datetime(df_weather['date'], format='%Y-%m-%d %H:%M:%S')"
   ]
  },
  {
   "cell_type": "code",
   "execution_count": 9,
   "metadata": {},
   "outputs": [],
   "source": [
    "# Création d'une colonne 'season' basée sur le mois\n",
    "def get_season(month):\n",
    "    if month in [12, 1, 2]:\n",
    "        return 0\n",
    "    elif month in [3, 4, 5]:\n",
    "        return 1\n",
    "    elif month in [6, 7, 8]:\n",
    "        return 2\n",
    "    else:\n",
    "        return 3"
   ]
  },
  {
   "cell_type": "code",
   "execution_count": 10,
   "metadata": {},
   "outputs": [],
   "source": [
    "# Création d'une colonne 'wind_chill'\n",
    "def calculate_wind_chill(temp, wind_speed):\n",
    "    if temp <= 10 and wind_speed > 4.8:\n",
    "        return 13.12 + 0.6215 * temp - 11.37 * (wind_speed ** 0.16) + 0.3965 * temp * (wind_speed ** 0.16)\n",
    "    else:\n",
    "        return temp"
   ]
  },
  {
   "cell_type": "code",
   "execution_count": 11,
   "metadata": {},
   "outputs": [],
   "source": [
    "# Création de caractéristiques temporelles à partir de la colonne 'date'\n",
    "df_weather['month'] = df_weather['date'].dt.month\n",
    "df_weather['day_of_week'] = df_weather['date'].dt.dayofweek\n",
    "df_weather['hour'] = df_weather['date'].dt.hour\n",
    "df_weather['season'] = df_weather['month'].apply(get_season)\n",
    "df_weather['week_of_year'] = df_weather['date'].dt.isocalendar().week"
   ]
  },
  {
   "cell_type": "code",
   "execution_count": 12,
   "metadata": {},
   "outputs": [],
   "source": [
    "# Amplitude journalière de la température (différence entre max et min température sur une journée)\n",
    "df_weather['temp_daily_amplitude'] = df_weather['T (degC)'].rolling(window=24).max() - df_weather['T (degC)'].rolling(window=24).min()\n",
    "\n",
    "# Différence de température d'une heure à l'autre\n",
    "df_weather['temp_delta'] = df_weather['T (degC)'].diff(periods=1)\n",
    "\n",
    "# Lag Features (température des dernières 1, 3, et 6 heures)\n",
    "df_weather['temp_lag_1h'] = df_weather['T (degC)'].shift(1)\n",
    "df_weather['temp_lag_3h'] = df_weather['T (degC)'].shift(3)\n",
    "df_weather['temp_lag_6h'] = df_weather['T (degC)'].shift(6)\n",
    "\n",
    "# Interaction entre VPmax et Tdew\n",
    "df_weather['VPmax_Tdew_interaction'] = df_weather['VPmax (mbar)'] * df_weather['Tdew (degC)']\n",
    "\n",
    "# Indice thermique (approximation simple avec température et humidité)\n",
    "df_weather['heat_index'] = 0.5 * (df_weather['T (degC)'] + 61.0 + ((df_weather['T (degC)'] - 68.0) * 1.2) + (df_weather['rh (%)'] * 0.094))\n",
    "\n",
    "# Indice de confort (Wind Chill)\n",
    "df_weather['wind_chill'] = df_weather.apply(lambda row: calculate_wind_chill(row['T (degC)'], row['wv (m/s)'] * 3.6), axis=1)"
   ]
  },
  {
   "cell_type": "code",
   "execution_count": 13,
   "metadata": {},
   "outputs": [],
   "source": [
    "# Définir une fenêtre de 3 heures (ou 3 périodes dans notre cas)\n",
    "window_size = 3\n",
    "\n",
    "# Créer des features rolling mean et rolling std pour les colonnes pertinentes\n",
    "df_weather['Tdew_rolling_mean'] = df_weather['Tdew (degC)'].rolling(window=window_size).mean()\n",
    "df_weather['Tdew_rolling_std'] = df_weather['Tdew (degC)'].rolling(window=window_size).std()\n",
    "\n",
    "df_weather['VPmax_rolling_mean'] = df_weather['VPmax (mbar)'].rolling(window=window_size).mean()\n",
    "df_weather['VPmax_rolling_std'] = df_weather['VPmax (mbar)'].rolling(window=window_size).std()\n",
    "\n",
    "df_weather['rho_rolling_mean'] = df_weather['rho (g/m**3)'].rolling(window=window_size).mean()\n",
    "df_weather['rho_rolling_std'] = df_weather['rho (g/m**3)'].rolling(window=window_size).std()\n"
   ]
  },
  {
   "cell_type": "code",
   "execution_count": 14,
   "metadata": {},
   "outputs": [],
   "source": [
    "# Supprimer les lignes avec des NaN dans les colonnes avec des valeurs manquantes\n",
    "df_weather = df_weather.dropna()"
   ]
  },
  {
   "cell_type": "code",
   "execution_count": null,
   "metadata": {},
   "outputs": [],
   "source": [
    "# Vérifier les valeurs manquantes dans le dataset\n",
    "missing_values = df_weather.isnull().sum()\n",
    "\n",
    "# Afficher les résultats\n",
    "missing_values"
   ]
  },
  {
   "cell_type": "code",
   "execution_count": null,
   "metadata": {},
   "outputs": [],
   "source": [
    "# Afficher les premières lignes pour vérifier les nouvelles colonnes\n",
    "df_weather.columns"
   ]
  },
  {
   "cell_type": "code",
   "execution_count": null,
   "metadata": {},
   "outputs": [],
   "source": [
    "# Graphique 1: Température en fonction de la colonne date\n",
    "plt.figure(figsize=(10, 5))\n",
    "plt.plot(df_weather['date'], df_weather['T (degC)'], label='Température (°C)', color='b')\n",
    "plt.xlabel('Date')\n",
    "plt.ylabel('Température (°C)')\n",
    "plt.title('Température en fonction de la date')\n",
    "plt.grid(True)\n",
    "plt.show()\n"
   ]
  },
  {
   "cell_type": "code",
   "execution_count": null,
   "metadata": {},
   "outputs": [],
   "source": [
    "# Graphique 2: Température en fonction de la colonne hour\n",
    "plt.figure(figsize=(10, 5))\n",
    "hourly_temp = df_weather.groupby('hour')['T (degC)'].mean()\n",
    "plt.plot(hourly_temp.index, hourly_temp.values, marker='o', linestyle='-', color='g')\n",
    "plt.xlabel('Heure')\n",
    "plt.ylabel('Température Moyenne (°C)')\n",
    "plt.title('Température en fonction de l\\'heure de la journée')\n",
    "plt.grid(True)\n",
    "plt.show()"
   ]
  },
  {
   "cell_type": "code",
   "execution_count": null,
   "metadata": {},
   "outputs": [],
   "source": [
    "# Graphique 3: Température en fonction du jour de la semaine\n",
    "plt.figure(figsize=(10, 5))\n",
    "weekly_temp = df_weather.groupby('day_of_week')['T (degC)'].mean()\n",
    "plt.bar(weekly_temp.index, weekly_temp.values, color='c', edgecolor='black')\n",
    "plt.xlabel('Jour de la semaine')\n",
    "plt.ylabel('Température Moyenne (°C)')\n",
    "plt.title('Température en fonction du jour de la semaine')\n",
    "plt.xticks(range(0, 7), ['Lundi', 'Mardi', 'Mercredi', 'Jeudi', 'Vendredi', 'Samedi', 'Dimanche'])\n",
    "plt.grid(axis='y')\n",
    "plt.show()"
   ]
  },
  {
   "cell_type": "code",
   "execution_count": null,
   "metadata": {},
   "outputs": [],
   "source": [
    "# Graphique 4: Température en fonction du mois\n",
    "plt.figure(figsize=(10, 5))\n",
    "monthly_temp = df_weather.groupby('month')['T (degC)'].mean()\n",
    "plt.plot(monthly_temp.index, monthly_temp.values, marker='o', linestyle='-', color='r')\n",
    "plt.xlabel('Mois')\n",
    "plt.ylabel('Température Moyenne (°C)')\n",
    "plt.title('Température en fonction du mois')\n",
    "plt.grid(True)\n",
    "plt.xticks(range(1, 13))\n",
    "plt.show()"
   ]
  },
  {
   "cell_type": "code",
   "execution_count": null,
   "metadata": {},
   "outputs": [],
   "source": [
    "# Graphique 5: Température en fonction de la saison\n",
    "plt.figure(figsize=(10, 5))\n",
    "seasonal_temp = df_weather.groupby('season')['T (degC)'].mean()\n",
    "plt.bar(seasonal_temp.index, seasonal_temp.values, color='purple', edgecolor='black')\n",
    "plt.xlabel('Saison')\n",
    "plt.ylabel('Température Moyenne (°C)')\n",
    "plt.title('Température en fonction de la saison')\n",
    "plt.grid(axis='y')\n",
    "plt.show()"
   ]
  },
  {
   "cell_type": "code",
   "execution_count": null,
   "metadata": {},
   "outputs": [],
   "source": [
    "# Graphique 6: Température en fonction de la semaine de l'année\n",
    "plt.figure(figsize=(10, 5))\n",
    "weekly_year_temp = df_weather.groupby('week_of_year')['T (degC)'].mean()\n",
    "plt.plot(weekly_year_temp.index, weekly_year_temp.values, marker='o', linestyle='-', color='orange')\n",
    "plt.xlabel('Semaine de l\\'année')\n",
    "plt.ylabel('Température Moyenne (°C)')\n",
    "plt.title('Température en fonction de la semaine de l\\'année')\n",
    "plt.grid(True)\n",
    "plt.show()"
   ]
  },
  {
   "cell_type": "code",
   "execution_count": null,
   "metadata": {},
   "outputs": [],
   "source": [
    "# Calcul de la matrice de corrélation avec toutes les colonnes disponibles\n",
    "correlation_matrix_full = df_weather.corr()\n",
    "\n",
    "# Afficher la matrice de corrélation complète\n",
    "plt.figure(figsize=(12, 10))\n",
    "plt.matshow(correlation_matrix_full, cmap='coolwarm', fignum=1)\n",
    "plt.colorbar()\n",
    "plt.xticks(range(correlation_matrix_full.shape[1]), correlation_matrix_full.columns, rotation=90)\n",
    "plt.yticks(range(correlation_matrix_full.shape[1]), correlation_matrix_full.columns)\n",
    "plt.title('Matrice de corrélation complète', pad=20)\n",
    "plt.show()\n",
    "\n",
    "# Afficher la matrice de corrélation complète en version tableau\n",
    "print(correlation_matrix_full)\n"
   ]
  },
  {
   "cell_type": "markdown",
   "metadata": {},
   "source": [
    "# Caractéristiques avec une forte corrélation avec la température :\n",
    "\n",
    "Tpot (K) : Très forte corrélation (0.995), mais potentiellement redondante avec la température elle-même. Cela pourrait être exclu pour éviter la redondance.\n",
    "\n",
    "Tdew (degC) : Corrélation élevée (0.783), ce qui indique que la température de rosée a une influence importante sur la température.\n",
    "\n",
    "VPmax (mbar) : Corrélation forte (0.968), la pression de vapeur maximale est pertinente.\n",
    "\n",
    "Tlog (degC) : Très forte corrélation (0.982), mais potentiellement redondante avec la température. À évaluer si nécessaire.\n",
    "\n",
    "VPact (mbar) : Moyenne à forte corrélation (~0.76).\n",
    "\n",
    "rho (g/m³) : Corrélation négative forte (~-0.95), ce qui en fait une caractéristique intéressante pour la prédiction.\n",
    "\n",
    "temp_lag_1h : Très forte corrélation (0.999), donc la température avec un décalage d'une heure est très pertinente.\n",
    "\n",
    "temp_lag_3h et temp_lag_6h : Corrélations élevées (0.996 et 0.989), donc les décalages à 3 et 6 heures sont également utiles.\n",
    "\n",
    "VPmax_Tdew_interaction : Corrélation forte (0.856), l'interaction entre la pression de vapeur maximale et la température de rosée est pertinente.\n",
    "\n",
    "heat_index : Très forte corrélation (0.995), indiquant que l'indice thermique est également une bonne mesure.\n",
    "\n",
    "Tdew_rolling_mean : Corrélation modérée (0.782), la moyenne mobile de la température de rosée est également utile.\n",
    "\n",
    "VPmax_rolling_mean : Forte corrélation positive (0.968), la moyenne mobile de la pression de vapeur maximale est un bon prédicteur.\n",
    "\n",
    "rho_rolling_mean : Forte corrélation négative (-0.946), la moyenne mobile de la densité de l'air influence la température de manière inverse.\n",
    "\n",
    "# Variables temporelles :\n",
    "\n",
    "month : Corrélation modérée, pertinente pour capturer les variations saisonnières.\n",
    "\n",
    "hour : Corrélation modérée avec la température, utile pour capturer les variations diurnes.\n",
    "\n",
    "season et week_of_year : Peuvent être incluses pour aider à capturer les tendances saisonnières.\n",
    "\n",
    "# Sélection finale pour le modèle DeepAR :\n",
    "\n",
    "Tdew (degC)\n",
    "\n",
    "VPmax (mbar)\n",
    "\n",
    "rho (g/m³)\n",
    "\n",
    "temp_lag_1h\n",
    "\n",
    "temp_lag_3h\n",
    "\n",
    "temp_lag_6h\n",
    "\n",
    "VPmax_Tdew_interaction\n",
    "\n",
    "heat_index\n",
    "\n",
    "Tdew_rolling_mean\n",
    "\n",
    "VPmax_rolling_mean\n",
    "\n",
    "rho_rolling_mean\n",
    "\n",
    "month\n",
    "\n",
    "hour\n",
    "\n",
    "week_of_year\n"
   ]
  },
  {
   "cell_type": "code",
   "execution_count": 24,
   "metadata": {},
   "outputs": [],
   "source": [
    "# Inclure toutes les features sélectionnées dans la nouvelle dataframe df_final\n",
    "all_selected_features = ['date', 'month', 'hour', 'week_of_year','Tdew (degC)',\n",
    "                         'VPmax (mbar)', 'rho (g/m**3)', 'temp_lag_1h',\n",
    "                         'temp_lag_3h', 'temp_lag_6h', 'VPmax_Tdew_interaction', \n",
    "                         'heat_index', 'Tdew_rolling_mean', 'VPmax_rolling_mean',\n",
    "                         'rho_rolling_mean']\n",
    "\n",
    "# Créer la nouvelle dataframe df_final avec toutes les caractéristiques sélectionnées\n",
    "df_final = df_weather[all_selected_features].copy()\n",
    "\n",
    "# Appliquer la standardisation uniquement aux colonnes pertinentes\n",
    "features_to_standardize = ['Tdew (degC)', 'VPmax (mbar)', 'rho (g/m**3)', \n",
    "                           'temp_lag_1h', 'temp_lag_3h', 'temp_lag_6h', \n",
    "                           'VPmax_Tdew_interaction', 'heat_index', \n",
    "                           'Tdew_rolling_mean', 'VPmax_rolling_mean',\n",
    "                           'rho_rolling_mean']\n",
    "\n",
    "# Recréer le standardiseur\n",
    "scaler = StandardScaler()\n",
    "\n",
    "# Standardiser les colonnes pertinentes\n",
    "df_final[features_to_standardize] = scaler.fit_transform(df_final[features_to_standardize])"
   ]
  },
  {
   "cell_type": "code",
   "execution_count": null,
   "metadata": {},
   "outputs": [],
   "source": [
    "df_final.head()"
   ]
  }
 ],
 "metadata": {
  "kernelspec": {
   "display_name": "Python 3",
   "language": "python",
   "name": "python3"
  },
  "language_info": {
   "codemirror_mode": {
    "name": "ipython",
    "version": 3
   },
   "file_extension": ".py",
   "mimetype": "text/x-python",
   "name": "python",
   "nbconvert_exporter": "python",
   "pygments_lexer": "ipython3",
   "version": "3.11.5"
  }
 },
 "nbformat": 4,
 "nbformat_minor": 2
}
