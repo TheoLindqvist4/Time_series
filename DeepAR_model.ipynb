{
 "cells": [
  {
   "cell_type": "code",
   "execution_count": 2,
   "metadata": {},
   "outputs": [
    {
     "ename": "ModuleNotFoundError",
     "evalue": "No module named 'gluonts.model.deepar'",
     "output_type": "error",
     "traceback": [
      "\u001b[1;31m---------------------------------------------------------------------------\u001b[0m",
      "\u001b[1;31mModuleNotFoundError\u001b[0m                       Traceback (most recent call last)",
      "Cell \u001b[1;32mIn[2], line 3\u001b[0m\n\u001b[0;32m      1\u001b[0m \u001b[38;5;28;01mimport\u001b[39;00m \u001b[38;5;21;01mpandas\u001b[39;00m \u001b[38;5;28;01mas\u001b[39;00m \u001b[38;5;21;01mpd\u001b[39;00m\n\u001b[0;32m      2\u001b[0m \u001b[38;5;28;01mfrom\u001b[39;00m \u001b[38;5;21;01mgluonts\u001b[39;00m\u001b[38;5;21;01m.\u001b[39;00m\u001b[38;5;21;01mdataset\u001b[39;00m\u001b[38;5;21;01m.\u001b[39;00m\u001b[38;5;21;01mcommon\u001b[39;00m \u001b[38;5;28;01mimport\u001b[39;00m ListDataset\n\u001b[1;32m----> 3\u001b[0m \u001b[38;5;28;01mfrom\u001b[39;00m \u001b[38;5;21;01mgluonts\u001b[39;00m\u001b[38;5;21;01m.\u001b[39;00m\u001b[38;5;21;01mmodel\u001b[39;00m\u001b[38;5;21;01m.\u001b[39;00m\u001b[38;5;21;01mdeepar\u001b[39;00m \u001b[38;5;28;01mimport\u001b[39;00m DeepAREstimator\n\u001b[0;32m      4\u001b[0m \u001b[38;5;28;01mfrom\u001b[39;00m \u001b[38;5;21;01mgluonts\u001b[39;00m\u001b[38;5;21;01m.\u001b[39;00m\u001b[38;5;21;01mmx\u001b[39;00m\u001b[38;5;21;01m.\u001b[39;00m\u001b[38;5;21;01mtrainer\u001b[39;00m \u001b[38;5;28;01mimport\u001b[39;00m Trainer\n\u001b[0;32m      5\u001b[0m \u001b[38;5;28;01mfrom\u001b[39;00m \u001b[38;5;21;01mgluonts\u001b[39;00m\u001b[38;5;21;01m.\u001b[39;00m\u001b[38;5;21;01mevaluation\u001b[39;00m \u001b[38;5;28;01mimport\u001b[39;00m make_evaluation_predictions, Evaluator\n",
      "\u001b[1;31mModuleNotFoundError\u001b[0m: No module named 'gluonts.model.deepar'"
     ]
    }
   ],
   "source": [
    "import pandas as pd\n",
    "from gluonts.dataset.common import ListDataset\n",
    "from gluonts.model.deepar import DeepAREstimator\n",
    "from gluonts.mx.trainer import Trainer\n",
    "from gluonts.evaluation import make_evaluation_predictions, Evaluator\n",
    "import mxnet as mx"
   ]
  },
  {
   "cell_type": "code",
   "execution_count": null,
   "metadata": {},
   "outputs": [],
   "source": [
    "file_path_weather = 'C:\\Theo\\School\\ESIEE\\Annee\\E5\\TimeSeries\\Projet DeepAR\\Dataset\\weather\\weather.csv'\n",
    "\n",
    "df_weather = pd.read_csv(file_path_weather)\n",
    "\n",
    "# Select features\n",
    "features = ['p (mbar)', 'T (degC)', 'Tpot (K)', 'Tdew (degC)', 'rh (%)', 'VPmax (mbar)',\n",
    "            'VPact (mbar)', 'VPdef (mbar)', 'sh (g/kg)', 'wv (m/s)', 'max. wv (m/s)', \n",
    "            'wd (deg)', 'rain (mm)', 'raining (s)', 'SWDR (W/m²)', 'PAR (µmol/m²/s)', \n",
    "            'max. PAR (µmol/m²/s)', 'Tlog (degC)', 'OT']\n",
    "\n",
    "# Fill missing values\n",
    "df = df.fillna(method='ffill')\n",
    "\n",
    "# Create the training dataset\n",
    "training_data = ListDataset(\n",
    "    [{\"start\": df['date'].iloc[0], \"target\": df[feature].values} for feature in features],\n",
    "    freq=\"1H\"\n",
    ")\n",
    "\n",
    "# Create DeepAR estimator\n",
    "estimator = DeepAREstimator(\n",
    "    freq=\"1H\",  # Hourly data\n",
    "    prediction_length=24,  # Predict the next 24 hours\n",
    "    context_length=48,  # Look back 48 hours\n",
    "    trainer=Trainer(epochs=50, learning_rate=1e-3, batch_size=64, ctx=mx.cpu())\n",
    ")\n",
    "\n",
    "# Train the model\n",
    "predictor = estimator.train(training_data=training_data)\n",
    "\n",
    "# Generate predictions\n",
    "forecast_it, ts_it = make_evaluation_predictions(\n",
    "    dataset=training_data,\n",
    "    predictor=predictor,\n",
    "    num_samples=100\n",
    ")\n",
    "\n",
    "# Evaluate the model\n",
    "evaluator = Evaluator()\n",
    "forecasts = list(forecast_it)\n",
    "tss = list(ts_it)\n",
    "agg_metrics, item_metrics = evaluator(tss, forecasts)\n",
    "print(f\"MAE: {agg_metrics['MAE']}\")\n",
    "print(f\"RMSE: {agg_metrics['RMSE']}\")"
   ]
  }
 ],
 "metadata": {
  "kernelspec": {
   "display_name": "Python 3",
   "language": "python",
   "name": "python3"
  },
  "language_info": {
   "codemirror_mode": {
    "name": "ipython",
    "version": 3
   },
   "file_extension": ".py",
   "mimetype": "text/x-python",
   "name": "python",
   "nbconvert_exporter": "python",
   "pygments_lexer": "ipython3",
   "version": "3.11.5"
  }
 },
 "nbformat": 4,
 "nbformat_minor": 2
}
